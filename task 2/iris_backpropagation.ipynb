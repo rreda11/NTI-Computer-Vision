{
  "nbformat": 4,
  "nbformat_minor": 0,
  "metadata": {
    "colab": {
      "private_outputs": true,
      "provenance": []
    },
    "kernelspec": {
      "name": "python3",
      "display_name": "Python 3"
    },
    "language_info": {
      "name": "python"
    }
  },
  "cells": [
    {
      "cell_type": "markdown",
      "source": [
        "Rawan Reda"
      ],
      "metadata": {
        "id": "s8DFqGdfeJp3"
      }
    },
    {
      "cell_type": "code",
      "execution_count": null,
      "metadata": {
        "id": "-vJnh0OzwhaU"
      },
      "outputs": [],
      "source": [
        "import numpy as np\n",
        "from sklearn.datasets import load_iris\n",
        "from sklearn.model_selection import train_test_split\n",
        "from sklearn.preprocessing import OneHotEncoder, StandardScaler\n"
      ]
    },
    {
      "cell_type": "code",
      "source": [
        "iris = load_iris()\n",
        "X = iris.data\n",
        "y = iris.target.reshape(-1, 1)"
      ],
      "metadata": {
        "id": "aau8i9-4xKmJ"
      },
      "execution_count": null,
      "outputs": []
    },
    {
      "cell_type": "code",
      "source": [
        "encoder = OneHotEncoder()\n",
        "y_onehot = encoder.fit_transform(y)"
      ],
      "metadata": {
        "id": "80R734HKyE5s"
      },
      "execution_count": null,
      "outputs": []
    },
    {
      "cell_type": "code",
      "source": [
        "scaler = StandardScaler()\n",
        "X = scaler.fit_transform(X)"
      ],
      "metadata": {
        "id": "L3jRXimjyJ1J"
      },
      "execution_count": null,
      "outputs": []
    },
    {
      "cell_type": "code",
      "source": [
        "X_train, X_test, y_train, y_test = train_test_split(X, y_onehot, test_size=0.2, random_state=42)"
      ],
      "metadata": {
        "id": "9k-94LsnyYP-"
      },
      "execution_count": null,
      "outputs": []
    },
    {
      "cell_type": "code",
      "source": [
        "def softmax(z):\n",
        "    exp_z = np.exp(z - np.max(z, axis=1, keepdims=True))\n",
        "    return exp_z / np.sum(exp_z, axis=1, keepdims=True)\n",
        "\n",
        "def relu(z):\n",
        "    return np.maximum(0, z)\n",
        "\n",
        "def relu_derivative(z):\n",
        "    return (z > 0).astype(float)\n",
        "\n",
        "def cross_entropy_loss(y_true, y_pred):\n",
        "    m = y_true.shape[0]\n",
        "    # Convert sparse matrix to dense array for element-wise multiplication\n",
        "    y_true_dense = y_true.toarray() if hasattr(y_true, 'toarray') else y_true\n",
        "    return -np.sum(y_true_dense * np.log(y_pred + 1e-9)) / m\n",
        "\n",
        "def accuracy(y_true, y_pred):\n",
        "    # Convert sparse matrix to dense array for comparison\n",
        "    y_true_dense = y_true.toarray() if hasattr(y_true, 'toarray') else y_true\n",
        "    return np.mean(np.argmax(y_true_dense, axis=1) == np.argmax(y_pred, axis=1))"
      ],
      "metadata": {
        "id": "q5EwOG_7yglH"
      },
      "execution_count": null,
      "outputs": []
    },
    {
      "cell_type": "code",
      "source": [
        "np.random.seed(42)\n",
        "input_size = X_train.shape[1]   # 4 features\n",
        "hidden_size = 8\n",
        "output_size = y_train.shape[1]  # 3 classes\n",
        "\n",
        "W1 = np.random.randn(input_size, hidden_size) * 0.01\n",
        "b1 = np.zeros((1, hidden_size))\n",
        "W2 = np.random.randn(hidden_size, output_size) * 0.01\n",
        "b2 = np.zeros((1, output_size))\n"
      ],
      "metadata": {
        "id": "bqQFmcobyk5e"
      },
      "execution_count": null,
      "outputs": []
    },
    {
      "cell_type": "code",
      "source": [
        "for epoch in range(epochs):\n",
        "    # ---- Forward pass ----\n",
        "    z1 = np.dot(X_train, W1) + b1\n",
        "    a1 = relu(z1)\n",
        "    z2 = np.dot(a1, W2) + b2\n",
        "    a2 = softmax(z2)\n",
        "\n",
        "    # ---- Compute loss ----\n",
        "    loss = cross_entropy_loss(y_train, a2)\n",
        "\n",
        "    # ---- Backpropagation ----\n",
        "    m = y_train.shape[0]\n",
        "    dz2 = a2 - y_train\n",
        "    dW2 = np.dot(a1.T, dz2) / m\n",
        "    db2 = np.sum(np.asarray(dz2), axis=0, keepdims=True) / m\n",
        "\n",
        "    da1 = np.dot(dz2, W2.T)\n",
        "    dz1 = np.asarray(da1) * np.asarray(relu_derivative(z1))\n",
        "    dW1 = np.dot(X_train.T, dz1) / m\n",
        "    db1 = np.sum(np.asarray(dz1), axis=0, keepdims=True) / m\n",
        "\n",
        "    # ---- Update weights ----\n",
        "    W2 -= learning_rate * dW2\n",
        "    b2 -= learning_rate * db2\n",
        "    W1 -= learning_rate * dW1\n",
        "    b1 -= learning_rate * db1\n",
        "\n",
        "    # ---- Print progress ----\n",
        "    if (epoch + 1) % 50 == 0:\n",
        "        train_acc = accuracy(y_train, a2)\n",
        "        print(f\"Epoch {epoch+1}/{epochs}, Loss: {loss:.4f}, Accuracy: {train_acc:.4f}\")"
      ],
      "metadata": {
        "id": "-Au5xbYaysCS"
      },
      "execution_count": null,
      "outputs": []
    },
    {
      "cell_type": "code",
      "source": [
        "z1_test = np.dot(X_test, W1) + b1\n",
        "a1_test = relu(z1_test)\n",
        "z2_test = np.dot(a1_test, W2) + b2\n",
        "a2_test = softmax(z2_test)\n",
        "\n",
        "test_acc = accuracy(y_test, a2_test)\n",
        "test_acc"
      ],
      "metadata": {
        "id": "PvumAcMLyxFe"
      },
      "execution_count": null,
      "outputs": []
    },
    {
      "cell_type": "code",
      "source": [],
      "metadata": {
        "id": "G1bzlNMJzpwY"
      },
      "execution_count": null,
      "outputs": []
    }
  ]
}